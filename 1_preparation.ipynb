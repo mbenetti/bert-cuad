{
 "cells": [
  {
   "cell_type": "code",
   "execution_count": 1,
   "id": "curious-rolling",
   "metadata": {},
   "outputs": [
    {
     "name": "stdout",
     "output_type": "stream",
     "text": [
      "Cloning into 'cuad'...\n",
      "remote: Enumerating objects: 30, done.\u001b[K\n",
      "remote: Total 30 (delta 0), reused 0 (delta 0), pack-reused 30\u001b[K\n",
      "Receiving objects: 100% (30/30), 17.78 MiB | 6.06 MiB/s, done.\n",
      "Resolving deltas: 100% (10/10), done.\n"
     ]
    }
   ],
   "source": [
    "!git clone https://github.com/TheAtticusProject/cuad.git "
   ]
  },
  {
   "cell_type": "code",
   "execution_count": 2,
   "id": "governing-wages",
   "metadata": {},
   "outputs": [],
   "source": [
    "!mv cuad cuad-training"
   ]
  },
  {
   "cell_type": "code",
   "execution_count": null,
   "id": "13715e95",
   "metadata": {},
   "outputs": [],
   "source": [
    "!sudo apt-get install unzip"
   ]
  },
  {
   "cell_type": "code",
   "execution_count": 4,
   "id": "decent-brown",
   "metadata": {},
   "outputs": [
    {
     "name": "stdout",
     "output_type": "stream",
     "text": [
      "Archive:  cuad-training/data.zip\n",
      "  inflating: cuad-data/CUADv1.json   \n",
      "  inflating: cuad-data/test.json     \n",
      "  inflating: cuad-data/train_separate_questions.json  \n"
     ]
    }
   ],
   "source": [
    "!unzip cuad-training/data.zip -d cuad-data/"
   ]
  },
  {
   "cell_type": "code",
   "execution_count": 5,
   "id": "packed-perception",
   "metadata": {},
   "outputs": [],
   "source": [
    "!mkdir cuad-models"
   ]
  },
  {
   "cell_type": "code",
   "execution_count": 6,
   "id": "clinical-monkey",
   "metadata": {},
   "outputs": [
    {
     "name": "stdout",
     "output_type": "stream",
     "text": [
      "  % Total    % Received % Xferd  Average Speed   Time    Time     Time  Current\n",
      "                                 Dload  Upload   Total   Spent    Left  Speed\n",
      "100  426M  100  426M    0     0  5294k      0  0:01:22  0:01:22 --:--:-- 6413k\n"
     ]
    }
   ],
   "source": [
    "!curl https://zenodo.org/record/4599830/files/roberta-base.zip?download=1 --output cuad-models/roberta-base.zip"
   ]
  },
  {
   "cell_type": "code",
   "execution_count": 7,
   "id": "charming-advocacy",
   "metadata": {},
   "outputs": [
    {
     "name": "stdout",
     "output_type": "stream",
     "text": [
      "Archive:  cuad-models/roberta-base.zip\n",
      "   creating: cuad-models/roberta-base/\n",
      "  inflating: cuad-models/roberta-base/special_tokens_map.json  \n",
      "  inflating: cuad-models/roberta-base/tokenizer_config.json  \n",
      "  inflating: cuad-models/roberta-base/pytorch_model.bin  \n",
      "  inflating: cuad-models/roberta-base/training_args.bin  \n",
      "  inflating: cuad-models/roberta-base/vocab.json  \n",
      "  inflating: cuad-models/roberta-base/predictions_.json  \n",
      "  inflating: cuad-models/roberta-base/merges.txt  \n",
      "  inflating: cuad-models/roberta-base/nbest_predictions_.json  \n",
      "  inflating: cuad-models/roberta-base/null_odds_.json  \n",
      "  inflating: cuad-models/roberta-base/config.json  \n"
     ]
    }
   ],
   "source": [
    "!unzip cuad-models/roberta-base.zip -d cuad-models/"
   ]
  },
  {
   "cell_type": "code",
   "execution_count": null,
   "id": "lesser-reflection",
   "metadata": {},
   "outputs": [],
   "source": [
    "!pip install torch"
   ]
  },
  {
   "cell_type": "code",
   "execution_count": null,
   "id": "seventh-portuguese",
   "metadata": {},
   "outputs": [],
   "source": [
    "!pip install transformers"
   ]
  }
 ],
 "metadata": {
  "interpreter": {
   "hash": "437d446e856e9e1396b58cf54c91b742b4cc3e8ac15b70b72b9b07395eec69e2"
  },
  "kernelspec": {
   "display_name": "Python 3.8.13 ('cuad38': conda)",
   "language": "python",
   "name": "python3"
  },
  "language_info": {
   "codemirror_mode": {
    "name": "ipython",
    "version": 3
   },
   "file_extension": ".py",
   "mimetype": "text/x-python",
   "name": "python",
   "nbconvert_exporter": "python",
   "pygments_lexer": "ipython3",
   "version": "3.8.13"
  }
 },
 "nbformat": 4,
 "nbformat_minor": 5
}
